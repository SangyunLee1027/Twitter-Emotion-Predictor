{
 "cells": [
  {
   "cell_type": "markdown",
   "metadata": {},
   "source": [
    "Sangyun Lee, Sreyas Dhulipala, Ye Yu, Yue"
   ]
  },
  {
   "cell_type": "code",
   "execution_count": 27,
   "metadata": {},
   "outputs": [],
   "source": [
    "from transformers import AutoModelForSequenceClassification, AutoTokenizer, DataCollatorWithPadding, Trainer, TrainingArguments\n",
    "from torch.utils.data import DataLoader, Dataset\n",
    "import pandas as pd\n",
    "from helper import Transformer_Dataset, preprocess\n",
    "import numpy as np\n",
    "import evaluate\n",
    "import torch"
   ]
  },
  {
   "cell_type": "markdown",
   "metadata": {},
   "source": [
    "Labels (Emotions)"
   ]
  },
  {
   "cell_type": "code",
   "execution_count": 2,
   "metadata": {},
   "outputs": [],
   "source": [
    "id2label = {0 : \"sadness\", 1 : \"joy\", 2: \"love\", 3: \"anger\", 4 : \"fear\", 5: \"surprise\"}\n",
    "label2id = {\"sadness\": 0, \"joy\" : 1, \"love\":2, \"anger\": 3, \"fear\" : 4, \"surprise\": 5}\n"
   ]
  },
  {
   "cell_type": "markdown",
   "metadata": {},
   "source": [
    "## Load Model"
   ]
  },
  {
   "cell_type": "markdown",
   "metadata": {},
   "source": [
    "Loading Distilbert Model"
   ]
  },
  {
   "cell_type": "code",
   "execution_count": 3,
   "metadata": {},
   "outputs": [
    {
     "name": "stderr",
     "output_type": "stream",
     "text": [
      "Some weights of DistilBertForSequenceClassification were not initialized from the model checkpoint at distilbert/distilbert-base-uncased and are newly initialized: ['classifier.bias', 'classifier.weight', 'pre_classifier.bias', 'pre_classifier.weight']\n",
      "You should probably TRAIN this model on a down-stream task to be able to use it for predictions and inference.\n"
     ]
    }
   ],
   "source": [
    "model = AutoModelForSequenceClassification.from_pretrained(\"distilbert/distilbert-base-uncased\", num_labels=6, id2label=id2label, label2id=label2id) \n",
    "device = torch.device(\"cuda\" if torch.cuda.is_available() else \"cpu\")\n",
    "model.to(device)"
   ]
  },
  {
   "cell_type": "markdown",
   "metadata": {},
   "source": [
    "Loading Tokenizer for Distilbert Model"
   ]
  },
  {
   "cell_type": "code",
   "execution_count": 4,
   "metadata": {},
   "outputs": [],
   "source": [
    "checkpoint = \"distilbert/distilbert-base-uncased\"\n",
    "tokenizer = AutoTokenizer.from_pretrained(checkpoint)\n",
    "data_collator = DataCollatorWithPadding(tokenizer=tokenizer) # It automatically does padding to longest length of data in each batch.  \n"
   ]
  },
  {
   "cell_type": "markdown",
   "metadata": {},
   "source": [
    "Arugments for training/fine tuning the Model"
   ]
  },
  {
   "cell_type": "code",
   "execution_count": 5,
   "metadata": {},
   "outputs": [],
   "source": [
    "training_args = TrainingArguments(\n",
    "    output_dir=\"output_model\",  # output directory\n",
    "    learning_rate=2e-5,         # learning rate\n",
    "    per_device_train_batch_size=16, # batch size for training\n",
    "    per_device_eval_batch_size=16,  # batch size for evaluation\n",
    "    num_train_epochs=3,         # number of training epochs\n",
    "    warmup_steps=500,           # number of warmup steps for learning rate scheduler\n",
    "    weight_decay=0.01,          # strength of weight decay\n",
    "    evaluation_strategy=\"epoch\", # evaluate the model for each epoch\n",
    "    save_strategy=\"epoch\",       # save the model for each epoch\n",
    "    load_best_model_at_end=True, # loading the model with the best result\n",
    ")\n"
   ]
  },
  {
   "cell_type": "markdown",
   "metadata": {},
   "source": [
    "## Preparing the Dataset"
   ]
  },
  {
   "cell_type": "code",
   "execution_count": 6,
   "metadata": {},
   "outputs": [],
   "source": [
    "df = pd.read_csv(\"Datasets/training.csv\") # Load the data for training\n",
    "training_input = preprocess(list(df[\"text\"]), tokenizer = tokenizer) # Preprocessing (remove urls in tweets and tokenizing the sentencees)\n",
    "training_dataset = Transformer_Dataset(input_data = training_input, output_labels = list(df[\"label\"]), device = device)\n"
   ]
  },
  {
   "cell_type": "code",
   "execution_count": 7,
   "metadata": {},
   "outputs": [
    {
     "data": {
      "text/plain": [
       "16000"
      ]
     },
     "execution_count": 7,
     "metadata": {},
     "output_type": "execute_result"
    }
   ],
   "source": [
    "len(training_dataset)"
   ]
  },
  {
   "cell_type": "code",
   "execution_count": 8,
   "metadata": {},
   "outputs": [],
   "source": [
    "df2 = pd.read_csv(\"Datasets/validation.csv\") # Load the data for evaluating at each epoch\n",
    "eval_input = preprocess(list(df2[\"text\"]), tokenizer = tokenizer) # Preprocessing (remove urls in tweets and tokenizing the sentencees)\n",
    "eval_dataset = Transformer_Dataset(eval_input, list(df2[\"label\"]), device = device)\n"
   ]
  },
  {
   "cell_type": "markdown",
   "metadata": {},
   "source": [
    "## Trainer"
   ]
  },
  {
   "cell_type": "markdown",
   "metadata": {},
   "source": [
    "Function for evaluating during training"
   ]
  },
  {
   "cell_type": "code",
   "execution_count": 9,
   "metadata": {},
   "outputs": [],
   "source": [
    "accuracy = evaluate.load(\"accuracy\")\n",
    "\n",
    "def compute_metrics(eval_pred):\n",
    "    predictions, labels = eval_pred\n",
    "    predictions = np.argmax(predictions, axis=1)\n",
    "    return accuracy.compute(predictions=predictions, references=labels)\n"
   ]
  },
  {
   "cell_type": "markdown",
   "metadata": {},
   "source": [
    "Initialize Trainer"
   ]
  },
  {
   "cell_type": "code",
   "execution_count": 10,
   "metadata": {},
   "outputs": [
    {
     "name": "stderr",
     "output_type": "stream",
     "text": [
      "c:\\Users\\1027d\\AppData\\Local\\Programs\\Python\\Python311\\Lib\\site-packages\\accelerate\\accelerator.py:436: FutureWarning: Passing the following arguments to `Accelerator` is deprecated and will be removed in version 1.0 of Accelerate: dict_keys(['dispatch_batches', 'split_batches', 'even_batches', 'use_seedable_sampler']). Please pass an `accelerate.DataLoaderConfiguration` instead: \n",
      "dataloader_config = DataLoaderConfiguration(dispatch_batches=None, split_batches=False, even_batches=True, use_seedable_sampler=True)\n",
      "  warnings.warn(\n"
     ]
    }
   ],
   "source": [
    "trainer = Trainer(\n",
    "    model=model, # model to train/fine tuning\n",
    "    args=training_args, # arguments for trianing from above\n",
    "    train_dataset=training_dataset, # dataset for training\n",
    "    eval_dataset=eval_dataset, # dataset for evaluation\n",
    "    tokenizer=tokenizer, # tokenizer\n",
    "    data_collator=data_collator, # data_collator for padding\n",
    "    compute_metrics=compute_metrics, # function for evaluation\n",
    ")"
   ]
  },
  {
   "cell_type": "markdown",
   "metadata": {},
   "source": [
    "Training/Fine tuning"
   ]
  },
  {
   "cell_type": "code",
   "execution_count": 11,
   "metadata": {},
   "outputs": [
    {
     "name": "stderr",
     "output_type": "stream",
     "text": [
      " 17%|█▋        | 500/3000 [18:56<1:37:25,  2.34s/it]"
     ]
    },
    {
     "name": "stdout",
     "output_type": "stream",
     "text": [
      "{'loss': 1.1686, 'grad_norm': 9.327946662902832, 'learning_rate': 2e-05, 'epoch': 0.5}\n"
     ]
    },
    {
     "name": "stderr",
     "output_type": "stream",
     "text": [
      " 33%|███▎      | 1000/3000 [38:23<1:20:31,  2.42s/it]"
     ]
    },
    {
     "name": "stdout",
     "output_type": "stream",
     "text": [
      "{'loss': 0.3097, 'grad_norm': 11.198054313659668, 'learning_rate': 1.6000000000000003e-05, 'epoch': 1.0}\n"
     ]
    },
    {
     "name": "stderr",
     "output_type": "stream",
     "text": [
      "                                                     \n",
      " 33%|███▎      | 1000/3000 [40:04<1:20:31,  2.42s/it]"
     ]
    },
    {
     "name": "stdout",
     "output_type": "stream",
     "text": [
      "{'eval_loss': 0.22844649851322174, 'eval_accuracy': 0.9255, 'eval_runtime': 100.9474, 'eval_samples_per_second': 19.812, 'eval_steps_per_second': 1.238, 'epoch': 1.0}\n"
     ]
    },
    {
     "name": "stderr",
     "output_type": "stream",
     "text": [
      " 50%|█████     | 1500/3000 [1:00:34<1:00:23,  2.42s/it]"
     ]
    },
    {
     "name": "stdout",
     "output_type": "stream",
     "text": [
      "{'loss': 0.1704, 'grad_norm': 0.17488795518875122, 'learning_rate': 1.2e-05, 'epoch': 1.5}\n"
     ]
    },
    {
     "name": "stderr",
     "output_type": "stream",
     "text": [
      " 67%|██████▋   | 2000/3000 [1:20:48<40:53,  2.45s/it]  "
     ]
    },
    {
     "name": "stdout",
     "output_type": "stream",
     "text": [
      "{'loss': 0.1573, 'grad_norm': 5.540460586547852, 'learning_rate': 8.000000000000001e-06, 'epoch': 2.0}\n"
     ]
    },
    {
     "name": "stderr",
     "output_type": "stream",
     "text": [
      "                                                     \n",
      " 67%|██████▋   | 2000/3000 [1:22:27<40:53,  2.45s/it]"
     ]
    },
    {
     "name": "stdout",
     "output_type": "stream",
     "text": [
      "{'eval_loss': 0.16139106452465057, 'eval_accuracy': 0.9375, 'eval_runtime': 98.7164, 'eval_samples_per_second': 20.26, 'eval_steps_per_second': 1.266, 'epoch': 2.0}\n"
     ]
    },
    {
     "name": "stderr",
     "output_type": "stream",
     "text": [
      " 83%|████████▎ | 2500/3000 [1:42:33<19:21,  2.32s/it]  "
     ]
    },
    {
     "name": "stdout",
     "output_type": "stream",
     "text": [
      "{'loss': 0.1164, 'grad_norm': 0.061852917075157166, 'learning_rate': 4.000000000000001e-06, 'epoch': 2.5}\n"
     ]
    },
    {
     "name": "stderr",
     "output_type": "stream",
     "text": [
      "100%|██████████| 3000/3000 [2:02:05<00:00,  2.30s/it]"
     ]
    },
    {
     "name": "stdout",
     "output_type": "stream",
     "text": [
      "{'loss': 0.0969, 'grad_norm': 0.8338232040405273, 'learning_rate': 0.0, 'epoch': 3.0}\n"
     ]
    },
    {
     "name": "stderr",
     "output_type": "stream",
     "text": [
      "                                                     \n",
      "100%|██████████| 3000/3000 [2:03:39<00:00,  2.30s/it]"
     ]
    },
    {
     "name": "stdout",
     "output_type": "stream",
     "text": [
      "{'eval_loss': 0.15153935551643372, 'eval_accuracy': 0.938, 'eval_runtime': 93.5121, 'eval_samples_per_second': 21.388, 'eval_steps_per_second': 1.337, 'epoch': 3.0}\n"
     ]
    },
    {
     "name": "stderr",
     "output_type": "stream",
     "text": [
      "100%|██████████| 3000/3000 [2:03:40<00:00,  2.47s/it]"
     ]
    },
    {
     "name": "stdout",
     "output_type": "stream",
     "text": [
      "{'train_runtime': 7420.6844, 'train_samples_per_second': 6.468, 'train_steps_per_second': 0.404, 'train_loss': 0.33654150772094726, 'epoch': 3.0}\n"
     ]
    },
    {
     "name": "stderr",
     "output_type": "stream",
     "text": [
      "\n"
     ]
    },
    {
     "data": {
      "text/plain": [
       "TrainOutput(global_step=3000, training_loss=0.33654150772094726, metrics={'train_runtime': 7420.6844, 'train_samples_per_second': 6.468, 'train_steps_per_second': 0.404, 'train_loss': 0.33654150772094726, 'epoch': 3.0})"
      ]
     },
     "execution_count": 11,
     "metadata": {},
     "output_type": "execute_result"
    }
   ],
   "source": [
    "trainer.train()\n"
   ]
  },
  {
   "cell_type": "markdown",
   "metadata": {},
   "source": [
    "Save the Fine-tuned model Locally"
   ]
  },
  {
   "cell_type": "code",
   "execution_count": 12,
   "metadata": {},
   "outputs": [
    {
     "data": {
      "text/plain": [
       "('./my_fine_tuned_model_final\\\\tokenizer_config.json',\n",
       " './my_fine_tuned_model_final\\\\special_tokens_map.json',\n",
       " './my_fine_tuned_model_final\\\\vocab.txt',\n",
       " './my_fine_tuned_model_final\\\\added_tokens.json',\n",
       " './my_fine_tuned_model_final\\\\tokenizer.json')"
      ]
     },
     "execution_count": 12,
     "metadata": {},
     "output_type": "execute_result"
    }
   ],
   "source": [
    "model_path = \"./my_fine_tuned_model\"\n",
    "model.save_pretrained(model_path)\n",
    "tokenizer.save_pretrained(model_path)\n"
   ]
  },
  {
   "cell_type": "markdown",
   "metadata": {},
   "source": [
    "Testing Trained Model"
   ]
  },
  {
   "cell_type": "code",
   "execution_count": 41,
   "metadata": {},
   "outputs": [],
   "source": [
    "df_test = pd.read_csv(\"Datasets/test.csv\") # loading data for testing\n",
    "training_input = preprocess(list(df_test[\"text\"]), tokenizer = tokenizer)\n",
    "training_dataset = Transformer_Dataset(training_input, list(df_test[\"label\"]), device = device)\n"
   ]
  },
  {
   "cell_type": "markdown",
   "metadata": {},
   "source": [
    "Testing Single datas"
   ]
  },
  {
   "cell_type": "code",
   "execution_count": 45,
   "metadata": {},
   "outputs": [],
   "source": [
    "def single_data_test(index):\n",
    "    single_text = df_test[\"text\"][index]\n",
    "    real_label = df_test[\"label\"][index]\n",
    "    print(\"input_text: \", single_text)\n",
    "    print(\"output_label: \", real_label)\n",
    "\n",
    "    data = training_dataset[index]\n",
    "\n",
    "    data = {key: value.to(\"cuda\") for key, value in data.items()} # may be need to change \"cuda\" to \"cpu\" depends on device\n",
    "\n",
    "    output = model(**data)\n",
    "    label_ = output[\"logits\"].argmax(-1)\n",
    "    print(\"predicted_label: \", label_)\n",
    "    return label_"
   ]
  },
  {
   "cell_type": "code",
   "execution_count": 46,
   "metadata": {},
   "outputs": [
    {
     "name": "stdout",
     "output_type": "stream",
     "text": [
      "input_text:  i don t feel particularly agitated\n",
      "output_label:  4\n",
      "predicted_label:  tensor([3], device='cuda:0')\n"
     ]
    },
    {
     "data": {
      "text/plain": [
       "tensor([3], device='cuda:0')"
      ]
     },
     "execution_count": 46,
     "metadata": {},
     "output_type": "execute_result"
    }
   ],
   "source": [
    "index = 10\n",
    "single_data_test(index)\n"
   ]
  },
  {
   "cell_type": "code",
   "execution_count": 47,
   "metadata": {},
   "outputs": [
    {
     "name": "stdout",
     "output_type": "stream",
     "text": [
      "input_text:  i feel needy but comfortable with it i feel vulnerable but secure i feel the urge to cum hard but i get no relief\n",
      "output_label:  0\n",
      "predicted_label:  tensor([0], device='cuda:0')\n"
     ]
    },
    {
     "data": {
      "text/plain": [
       "tensor([0], device='cuda:0')"
      ]
     },
     "execution_count": 47,
     "metadata": {},
     "output_type": "execute_result"
    }
   ],
   "source": [
    "index = 100\n",
    "single_data_test(index)"
   ]
  },
  {
   "cell_type": "code",
   "execution_count": 35,
   "metadata": {},
   "outputs": [
    {
     "name": "stdout",
     "output_type": "stream",
     "text": [
      "input_text:  i don t know if this helps at all but writing all of this has made me feel somewhat regretful of ashamed of who i was and while i have more to share i just don t think i can right now\n",
      "output_label:  0\n",
      "predicted_label:  "
     ]
    },
    {
     "name": "stderr",
     "output_type": "stream",
     "text": [
      "C:\\Users\\1027d\\AppData\\Local\\Temp\\ipykernel_25744\\3312286471.py:9: UserWarning: To copy construct from a tensor, it is recommended to use sourceTensor.clone().detach() or sourceTensor.clone().detach().requires_grad_(True), rather than torch.tensor(sourceTensor).\n",
      "  data = {key: torch.tensor(value).to(\"cuda\") for key, value in data.items()}\n"
     ]
    },
    {
     "name": "stdout",
     "output_type": "stream",
     "text": [
      "tensor([0], device='cuda:0')\n"
     ]
    },
    {
     "data": {
      "text/plain": [
       "tensor([0], device='cuda:0')"
      ]
     },
     "execution_count": 35,
     "metadata": {},
     "output_type": "execute_result"
    }
   ],
   "source": [
    "index = 1022\n",
    "single_data_test(index)"
   ]
  },
  {
   "cell_type": "code",
   "execution_count": 48,
   "metadata": {},
   "outputs": [
    {
     "name": "stdout",
     "output_type": "stream",
     "text": [
      "input_text:  i feel the hearts decision to stop caring can it be reversed\n",
      "output_label:  2\n",
      "predicted_label:  tensor([2], device='cuda:0')\n"
     ]
    },
    {
     "data": {
      "text/plain": [
       "tensor([2], device='cuda:0')"
      ]
     },
     "execution_count": 48,
     "metadata": {},
     "output_type": "execute_result"
    }
   ],
   "source": [
    "index = 1245\n",
    "single_data_test(index)"
   ]
  },
  {
   "cell_type": "markdown",
   "metadata": {},
   "source": [
    "Whole Dataset Testing"
   ]
  },
  {
   "cell_type": "code",
   "execution_count": 51,
   "metadata": {},
   "outputs": [
    {
     "name": "stdout",
     "output_type": "stream",
     "text": [
      "accuracy:  0.9315\n"
     ]
    }
   ],
   "source": [
    "outputs = np.zeros(2000)\n",
    "real_label = df_test[\"label\"]\n",
    "\n",
    "for i, data in enumerate(training_dataset):\n",
    "    label = data.pop(\"labels\")\n",
    "    data  = {key: value.to(\"cuda\") for key, value in data.items()} # may be need to change \"cuda\" to \"cpu\" depends on device\n",
    "    output = model(**data)\n",
    "    outputs[i] = output[\"logits\"].argmax(-1)\n",
    "\n",
    "\n",
    "real_label = np.array(real_label)\n",
    "\n",
    "total_right = (outputs == real_label).sum()\n",
    "acc = total_right/2000\n",
    "print(\"accuracy: \", acc)"
   ]
  }
 ],
 "metadata": {
  "kernelspec": {
   "display_name": "Python 3",
   "language": "python",
   "name": "python3"
  },
  "language_info": {
   "codemirror_mode": {
    "name": "ipython",
    "version": 3
   },
   "file_extension": ".py",
   "mimetype": "text/x-python",
   "name": "python",
   "nbconvert_exporter": "python",
   "pygments_lexer": "ipython3",
   "version": "3.11.9"
  }
 },
 "nbformat": 4,
 "nbformat_minor": 2
}
